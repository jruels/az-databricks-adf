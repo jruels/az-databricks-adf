{
 "cells": [
  {
   "cell_type": "code",
   "execution_count": 2,
   "metadata": {},
   "outputs": [],
   "source": [
    "import psycopg2"
   ]
  },
  {
   "cell_type": "code",
   "execution_count": 3,
   "metadata": {},
   "outputs": [
    {
     "name": "stdout",
     "output_type": "stream",
     "text": [
      "Connected to PostgreSQL successfully\n"
     ]
    }
   ],
   "source": [
    "host = 'adfpostgres.postgres.database.azure.com'\n",
    "dbname = 'analytics'\n",
    "user = 'adfadmin'\n",
    "password = 'adf@min2025'\n",
    "port = 5432\n",
    "\n",
    "# Connect to PostgreSQL\n",
    "\n",
    "conn = psycopg2.connect(\n",
    "    host=host,\n",
    "    dbname=dbname,\n",
    "    user=user,\n",
    "    password=password,\n",
    "    port=port,\n",
    "    sslmode='require'\n",
    ")\n",
    "cursor = conn.cursor()\n",
    "print(\"Connected to PostgreSQL successfully\")\n"
   ]
  },
  {
   "cell_type": "code",
   "execution_count": 11,
   "metadata": {},
   "outputs": [],
   "source": [
    "create_table_query = '''\n",
    "CREATE TABLE IF NOT EXISTS public.happiness_population (\n",
    "    Region VARCHAR(255),\n",
    "    Country VARCHAR(255),\n",
    "    Happiness_Score FLOAT,\n",
    "    Population INT\n",
    ")\n",
    "'''\n",
    "cursor.execute(create_table_query)\n",
    "conn.commit()"
   ]
  },
  {
   "cell_type": "code",
   "execution_count": null,
   "metadata": {},
   "outputs": [],
   "source": []
  }
 ],
 "metadata": {
  "kernelspec": {
   "display_name": "base",
   "language": "python",
   "name": "python3"
  },
  "language_info": {
   "codemirror_mode": {
    "name": "ipython",
    "version": 3
   },
   "file_extension": ".py",
   "mimetype": "text/x-python",
   "name": "python",
   "nbconvert_exporter": "python",
   "pygments_lexer": "ipython3",
   "version": "3.11.5"
  }
 },
 "nbformat": 4,
 "nbformat_minor": 2
}
